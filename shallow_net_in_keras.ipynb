{
  "nbformat": 4,
  "nbformat_minor": 0,
  "metadata": {
    "kernelspec": {
      "display_name": "Python 3",
      "language": "python",
      "name": "python3"
    },
    "language_info": {
      "codemirror_mode": {
        "name": "ipython",
        "version": 3
      },
      "file_extension": ".py",
      "mimetype": "text/x-python",
      "name": "python",
      "nbconvert_exporter": "python",
      "pygments_lexer": "ipython3",
      "version": "3.6.5"
    },
    "colab": {
      "name": "shallow_net_in_keras.ipynb",
      "provenance": [],
      "toc_visible": true,
      "include_colab_link": true
    }
  },
  "cells": [
    {
      "cell_type": "markdown",
      "metadata": {
        "id": "view-in-github",
        "colab_type": "text"
      },
      "source": [
        "<a href=\"https://colab.research.google.com/github/hongqin/deep-learning-illustrated/blob/master/shallow_net_in_keras.ipynb\" target=\"_parent\"><img src=\"https://colab.research.google.com/assets/colab-badge.svg\" alt=\"Open In Colab\"/></a>"
      ]
    },
    {
      "cell_type": "markdown",
      "metadata": {
        "id": "fzkzMBVyHwfv"
      },
      "source": [
        "# Shallow Neural Network in Keras"
      ]
    },
    {
      "cell_type": "markdown",
      "metadata": {
        "id": "Td3UNiBxHwfw"
      },
      "source": [
        "Build a shallow neural network to classify MNIST digits"
      ]
    },
    {
      "cell_type": "markdown",
      "metadata": {
        "id": "CPF6RGrbHwfx"
      },
      "source": [
        "#### Load dependencies"
      ]
    },
    {
      "cell_type": "code",
      "metadata": {
        "id": "kEuyL1cgHwfz"
      },
      "source": [
        "import keras\n",
        "from keras.datasets import mnist\n",
        "from keras.models import Sequential\n",
        "from keras.layers import Dense\n",
        "from keras.optimizers import SGD\n",
        "from matplotlib import pyplot as plt"
      ],
      "execution_count": 2,
      "outputs": []
    },
    {
      "cell_type": "markdown",
      "metadata": {
        "id": "yy_nSFzZHwf3"
      },
      "source": [
        "#### Load data"
      ]
    },
    {
      "cell_type": "code",
      "metadata": {
        "scrolled": true,
        "id": "zbUtFxmDHwf3",
        "outputId": "e3f9dc21-cc11-4e2d-8041-b61d2bfc6557",
        "colab": {
          "base_uri": "https://localhost:8080/"
        }
      },
      "source": [
        "(X_train, y_train), (X_valid, y_valid) = mnist.load_data()"
      ],
      "execution_count": 3,
      "outputs": [
        {
          "output_type": "stream",
          "text": [
            "Downloading data from https://storage.googleapis.com/tensorflow/tf-keras-datasets/mnist.npz\n",
            "11493376/11490434 [==============================] - 0s 0us/step\n"
          ],
          "name": "stdout"
        }
      ]
    },
    {
      "cell_type": "code",
      "metadata": {
        "id": "sTliGnBBHwf6",
        "outputId": "c91975b4-9178-4514-c298-da2dab624881",
        "colab": {
          "base_uri": "https://localhost:8080/"
        }
      },
      "source": [
        "X_train.shape"
      ],
      "execution_count": 4,
      "outputs": [
        {
          "output_type": "execute_result",
          "data": {
            "text/plain": [
              "(60000, 28, 28)"
            ]
          },
          "metadata": {
            "tags": []
          },
          "execution_count": 4
        }
      ]
    },
    {
      "cell_type": "code",
      "metadata": {
        "id": "VwNpkdzfHwf8",
        "outputId": "9b45ac7c-d748-425d-dcbe-131d827fd33c",
        "colab": {
          "base_uri": "https://localhost:8080/"
        }
      },
      "source": [
        "y_train.shape"
      ],
      "execution_count": 5,
      "outputs": [
        {
          "output_type": "execute_result",
          "data": {
            "text/plain": [
              "(60000,)"
            ]
          },
          "metadata": {
            "tags": []
          },
          "execution_count": 5
        }
      ]
    },
    {
      "cell_type": "code",
      "metadata": {
        "id": "MHkJJHtpHwf-",
        "outputId": "1db0a5af-6fc5-4abe-849a-d0e779d9406f",
        "colab": {
          "base_uri": "https://localhost:8080/"
        }
      },
      "source": [
        "y_train[0:12]"
      ],
      "execution_count": 6,
      "outputs": [
        {
          "output_type": "execute_result",
          "data": {
            "text/plain": [
              "array([5, 0, 4, 1, 9, 2, 1, 3, 1, 4, 3, 5], dtype=uint8)"
            ]
          },
          "metadata": {
            "tags": []
          },
          "execution_count": 6
        }
      ]
    },
    {
      "cell_type": "code",
      "metadata": {
        "id": "D5mlfUIdHwgA",
        "outputId": "13365a84-77fd-4105-e06a-4638fd388a9b",
        "colab": {
          "base_uri": "https://localhost:8080/",
          "height": 137
        }
      },
      "source": [
        "plt.figure(figsize=(2,2))\n",
        "for k in range(12):\n",
        "    plt.subplot(3, 4, k+1)\n",
        "    plt.imshow(X_train[k], cmap='Greys')\n",
        "    plt.axis('off')\n",
        "plt.tight_layout()\n",
        "plt.show()"
      ],
      "execution_count": 9,
      "outputs": [
        {
          "output_type": "display_data",
          "data": {
            "image/png": "[encoded data removed]",
            "text/plain": [
              "<Figure size 144x144 with 12 Axes>"
            ]
          },
          "metadata": {
            "tags": [],
            "needs_background": "light"
          }
        }
      ]
    },
    {
      "cell_type": "code",
      "metadata": {
        "id": "E8uLLYoGHwgD",
        "outputId": "7d5b060b-65b8-4b89-c929-6ec170f4c3b9",
        "colab": {
          "base_uri": "https://localhost:8080/"
        }
      },
      "source": [
        "X_valid.shape"
      ],
      "execution_count": 10,
      "outputs": [
        {
          "output_type": "execute_result",
          "data": {
            "text/plain": [
              "(10000, 28, 28)"
            ]
          },
          "metadata": {
            "tags": []
          },
          "execution_count": 10
        }
      ]
    },
    {
      "cell_type": "code",
      "metadata": {
        "id": "KRIKbNLZHwgF",
        "outputId": "7e402b5a-df2a-4830-892f-e81f4446ab2f",
        "colab": {
          "base_uri": "https://localhost:8080/"
        }
      },
      "source": [
        "y_valid.shape"
      ],
      "execution_count": 11,
      "outputs": [
        {
          "output_type": "execute_result",
          "data": {
            "text/plain": [
              "(10000,)"
            ]
          },
          "metadata": {
            "tags": []
          },
          "execution_count": 11
        }
      ]
    },
    {
      "cell_type": "code",
      "metadata": {
        "id": "f9CH7rt0HwgH",
        "outputId": "ca1e860f-1148-4259-9129-a211c01fbe9b",
        "colab": {
          "base_uri": "https://localhost:8080/",
          "height": 282
        }
      },
      "source": [
        "plt.imshow(X_valid[0], cmap='Greys')"
      ],
      "execution_count": 12,
      "outputs": [
        {
          "output_type": "execute_result",
          "data": {
            "text/plain": [
              "<matplotlib.image.AxesImage at 0x7f5028479710>"
            ]
          },
          "metadata": {
            "tags": []
          },
          "execution_count": 12
        },
        {
          "output_type": "display_data",
          "data": {
            "image/png": "[encoded data removed]",
            "text/plain": [
              "<Figure size 432x288 with 1 Axes>"
            ]
          },
          "metadata": {
            "tags": [],
            "needs_background": "light"
          }
        }
      ]
    },
    {
      "cell_type": "code",
      "metadata": {
        "id": "Op60Ak9OHwgJ",
        "outputId": "c6286d19-a49e-4cef-856a-0a09e1a73f62",
        "colab": {
          "base_uri": "https://localhost:8080/"
        }
      },
      "source": [
        "X_valid[0]"
      ],
      "execution_count": 13,
      "outputs": [
        {
          "output_type": "execute_result",
          "data": {
            "text/plain": [
              "array([[  0,   0,   0,   0,   0,   0,   0,   0,   0,   0,   0,   0,   0,\n",
              "          0,   0,   0,   0,   0,   0,   0,   0,   0,   0,   0,   0,   0,\n",
              "          0,   0],\n",
              "       [  0,   0,   0,   0,   0,   0,   0,   0,   0,   0,   0,   0,   0,\n",
              "          0,   0,   0,   0,   0,   0,   0,   0,   0,   0,   0,   0,   0,\n",
              "          0,   0],\n",
              "       [  0,   0,   0,   0,   0,   0,   0,   0,   0,   0,   0,   0,   0,\n",
              "          0,   0,   0,   0,   0,   0,   0,   0,   0,   0,   0,   0,   0,\n",
              "          0,   0],\n",
              "       [  0,   0,   0,   0,   0,   0,   0,   0,   0,   0,   0,   0,   0,\n",
              "          0,   0,   0,   0,   0,   0,   0,   0,   0,   0,   0,   0,   0,\n",
              "          0,   0],\n",
              "       [  0,   0,   0,   0,   0,   0,   0,   0,   0,   0,   0,   0,   0,\n",
              "          0,   0,   0,   0,   0,   0,   0,   0,   0,   0,   0,   0,   0,\n",
              "          0,   0],\n",
              "       [  0,   0,   0,   0,   0,   0,   0,   0,   0,   0,   0,   0,   0,\n",
              "          0,   0,   0,   0,   0,   0,   0,   0,   0,   0,   0,   0,   0,\n",
              "          0,   0],\n",
              "       [  0,   0,   0,   0,   0,   0,   0,   0,   0,   0,   0,   0,   0,\n",
              "          0,   0,   0,   0,   0,   0,   0,   0,   0,   0,   0,   0,   0,\n",
              "          0,   0],\n",
              "       [  0,   0,   0,   0,   0,   0,  84, 185, 159, 151,  60,  36,   0,\n",
              "          0,   0,   0,   0,   0,   0,   0,   0,   0,   0,   0,   0,   0,\n",
              "          0,   0],\n",
              "       [  0,   0,   0,   0,   0,   0, 222, 254, 254, 254, 254, 241, 198,\n",
              "        198, 198, 198, 198, 198, 198, 198, 170,  52,   0,   0,   0,   0,\n",
              "          0,   0],\n",
              "       [  0,   0,   0,   0,   0,   0,  67, 114,  72, 114, 163, 227, 254,\n",
              "        225, 254, 254, 254, 250, 229, 254, 254, 140,   0,   0,   0,   0,\n",
              "          0,   0],\n",
              "       [  0,   0,   0,   0,   0,   0,   0,   0,   0,   0,   0,  17,  66,\n",
              "         14,  67,  67,  67,  59,  21, 236, 254, 106,   0,   0,   0,   0,\n",
              "          0,   0],\n",
              "       [  0,   0,   0,   0,   0,   0,   0,   0,   0,   0,   0,   0,   0,\n",
              "          0,   0,   0,   0,   0,  83, 253, 209,  18,   0,   0,   0,   0,\n",
              "          0,   0],\n",
              "       [  0,   0,   0,   0,   0,   0,   0,   0,   0,   0,   0,   0,   0,\n",
              "          0,   0,   0,   0,  22, 233, 255,  83,   0,   0,   0,   0,   0,\n",
              "          0,   0],\n",
              "       [  0,   0,   0,   0,   0,   0,   0,   0,   0,   0,   0,   0,   0,\n",
              "          0,   0,   0,   0, 129, 254, 238,  44,   0,   0,   0,   0,   0,\n",
              "          0,   0],\n",
              "       [  0,   0,   0,   0,   0,   0,   0,   0,   0,   0,   0,   0,   0,\n",
              "          0,   0,   0,  59, 249, 254,  62,   0,   0,   0,   0,   0,   0,\n",
              "          0,   0],\n",
              "       [  0,   0,   0,   0,   0,   0,   0,   0,   0,   0,   0,   0,   0,\n",
              "          0,   0,   0, 133, 254, 187,   5,   0,   0,   0,   0,   0,   0,\n",
              "          0,   0],\n",
              "       [  0,   0,   0,   0,   0,   0,   0,   0,   0,   0,   0,   0,   0,\n",
              "          0,   0,   9, 205, 248,  58,   0,   0,   0,   0,   0,   0,   0,\n",
              "          0,   0],\n",
              "       [  0,   0,   0,   0,   0,   0,   0,   0,   0,   0,   0,   0,   0,\n",
              "          0,   0, 126, 254, 182,   0,   0,   0,   0,   0,   0,   0,   0,\n",
              "          0,   0],\n",
              "       [  0,   0,   0,   0,   0,   0,   0,   0,   0,   0,   0,   0,   0,\n",
              "          0,  75, 251, 240,  57,   0,   0,   0,   0,   0,   0,   0,   0,\n",
              "          0,   0],\n",
              "       [  0,   0,   0,   0,   0,   0,   0,   0,   0,   0,   0,   0,   0,\n",
              "         19, 221, 254, 166,   0,   0,   0,   0,   0,   0,   0,   0,   0,\n",
              "          0,   0],\n",
              "       [  0,   0,   0,   0,   0,   0,   0,   0,   0,   0,   0,   0,   3,\n",
              "        203, 254, 219,  35,   0,   0,   0,   0,   0,   0,   0,   0,   0,\n",
              "          0,   0],\n",
              "       [  0,   0,   0,   0,   0,   0,   0,   0,   0,   0,   0,   0,  38,\n",
              "        254, 254,  77,   0,   0,   0,   0,   0,   0,   0,   0,   0,   0,\n",
              "          0,   0],\n",
              "       [  0,   0,   0,   0,   0,   0,   0,   0,   0,   0,   0,  31, 224,\n",
              "        254, 115,   1,   0,   0,   0,   0,   0,   0,   0,   0,   0,   0,\n",
              "          0,   0],\n",
              "       [  0,   0,   0,   0,   0,   0,   0,   0,   0,   0,   0, 133, 254,\n",
              "        254,  52,   0,   0,   0,   0,   0,   0,   0,   0,   0,   0,   0,\n",
              "          0,   0],\n",
              "       [  0,   0,   0,   0,   0,   0,   0,   0,   0,   0,  61, 242, 254,\n",
              "        254,  52,   0,   0,   0,   0,   0,   0,   0,   0,   0,   0,   0,\n",
              "          0,   0],\n",
              "       [  0,   0,   0,   0,   0,   0,   0,   0,   0,   0, 121, 254, 254,\n",
              "        219,  40,   0,   0,   0,   0,   0,   0,   0,   0,   0,   0,   0,\n",
              "          0,   0],\n",
              "       [  0,   0,   0,   0,   0,   0,   0,   0,   0,   0, 121, 254, 207,\n",
              "         18,   0,   0,   0,   0,   0,   0,   0,   0,   0,   0,   0,   0,\n",
              "          0,   0],\n",
              "       [  0,   0,   0,   0,   0,   0,   0,   0,   0,   0,   0,   0,   0,\n",
              "          0,   0,   0,   0,   0,   0,   0,   0,   0,   0,   0,   0,   0,\n",
              "          0,   0]], dtype=uint8)"
            ]
          },
          "metadata": {
            "tags": []
          },
          "execution_count": 13
        }
      ]
    },
    {
      "cell_type": "code",
      "metadata": {
        "id": "45zmsTF2HwgL",
        "outputId": "4f132a61-660d-4bef-9d58-f64d69557d2f",
        "colab": {
          "base_uri": "https://localhost:8080/"
        }
      },
      "source": [
        "y_valid[0]"
      ],
      "execution_count": 14,
      "outputs": [
        {
          "output_type": "execute_result",
          "data": {
            "text/plain": [
              "7"
            ]
          },
          "metadata": {
            "tags": []
          },
          "execution_count": 14
        }
      ]
    },
    {
      "cell_type": "markdown",
      "metadata": {
        "id": "szdjqNeeHwgM"
      },
      "source": [
        "#### Preprocess data"
      ]
    },
    {
      "cell_type": "code",
      "metadata": {
        "id": "KhT9eZMuHwgN"
      },
      "source": [
        "X_train = X_train.reshape(60000, 784).astype('float32')\n",
        "X_valid = X_valid.reshape(10000, 784).astype('float32')"
      ],
      "execution_count": 15,
      "outputs": []
    },
    {
      "cell_type": "code",
      "metadata": {
        "id": "PEzV6ppvHwgP"
      },
      "source": [
        "X_train /= 255\n",
        "X_valid /= 255"
      ],
      "execution_count": 16,
      "outputs": []
    },
    {
      "cell_type": "code",
      "metadata": {
        "id": "ouI9Tn7RHwgR",
        "outputId": "8b6ab5d7-9abd-4c0f-e46f-a0a0b5e83bba",
        "colab": {
          "base_uri": "https://localhost:8080/"
        }
      },
      "source": [
        "X_valid[0]"
      ],
      "execution_count": 17,
      "outputs": [
        {
          "output_type": "execute_result",
          "data": {
            "text/plain": [
              "array([0.        , 0.        , 0.        , 0.        , 0.        ,\n",
              "       0.        , 0.        , 0.        , 0.        , 0.        ,\n",
              "       0.        , 0.        , 0.        , 0.        , 0.        ,\n",
              "       0.        , 0.        , 0.        , 0.        , 0.        ,\n",
              "       0.        , 0.        , 0.        , 0.        , 0.        ,\n",
              "       0.        , 0.        , 0.        , 0.        , 0.        ,\n",
              "       0.        , 0.        , 0.        , 0.        , 0.        ,\n",
              "       0.        , 0.        , 0.        , 0.        , 0.        ,\n",
              "       0.        , 0.        , 0.        , 0.        , 0.        ,\n",
              "       0.        , 0.        , 0.        , 0.        , 0.        ,\n",
              "       0.        , 0.        , 0.        , 0.        , 0.        ,\n",
              "       0.        , 0.        , 0.        , 0.        , 0.        ,\n",
              "       0.        , 0.        , 0.        , 0.        , 0.        ,\n",
              "       0.        , 0.        , 0.        , 0.        , 0.        ,\n",
              "       0.        , 0.        , 0.        , 0.        , 0.        ,\n",
              "       0.        , 0.        , 0.        , 0.        , 0.        ,\n",
              "       0.        , 0.        , 0.        , 0.        , 0.        ,\n",
              "       0.        , 0.        , 0.        , 0.        , 0.        ,\n",
              "       0.        , 0.        , 0.        , 0.        , 0.        ,\n",
              "       0.        , 0.        , 0.        , 0.        , 0.        ,\n",
              "       0.        , 0.        , 0.        , 0.        , 0.        ,\n",
              "       0.        , 0.        , 0.        , 0.        , 0.        ,\n",
              "       0.        , 0.        , 0.        , 0.        , 0.        ,\n",
              "       0.        , 0.        , 0.        , 0.        , 0.        ,\n",
              "       0.        , 0.        , 0.        , 0.        , 0.        ,\n",
              "       0.        , 0.        , 0.        , 0.        , 0.        ,\n",
              "       0.        , 0.        , 0.        , 0.        , 0.        ,\n",
              "       0.        , 0.        , 0.        , 0.        , 0.        ,\n",
              "       0.        , 0.        , 0.        , 0.        , 0.        ,\n",
              "       0.        , 0.        , 0.        , 0.        , 0.        ,\n",
              "       0.        , 0.        , 0.        , 0.        , 0.        ,\n",
              "       0.        , 0.        , 0.        , 0.        , 0.        ,\n",
              "       0.        , 0.        , 0.        , 0.        , 0.        ,\n",
              "       0.        , 0.        , 0.        , 0.        , 0.        ,\n",
              "       0.        , 0.        , 0.        , 0.        , 0.        ,\n",
              "       0.        , 0.        , 0.        , 0.        , 0.        ,\n",
              "       0.        , 0.        , 0.        , 0.        , 0.        ,\n",
              "       0.        , 0.        , 0.        , 0.        , 0.        ,\n",
              "       0.        , 0.        , 0.        , 0.        , 0.        ,\n",
              "       0.        , 0.        , 0.        , 0.        , 0.        ,\n",
              "       0.        , 0.        , 0.32941177, 0.7254902 , 0.62352943,\n",
              "       0.5921569 , 0.23529412, 0.14117648, 0.        , 0.        ,\n",
              "       0.        , 0.        , 0.        , 0.        , 0.        ,\n",
              "       0.        , 0.        , 0.        , 0.        , 0.        ,\n",
              "       0.        , 0.        , 0.        , 0.        , 0.        ,\n",
              "       0.        , 0.        , 0.        , 0.        , 0.        ,\n",
              "       0.87058824, 0.99607843, 0.99607843, 0.99607843, 0.99607843,\n",
              "       0.94509804, 0.7764706 , 0.7764706 , 0.7764706 , 0.7764706 ,\n",
              "       0.7764706 , 0.7764706 , 0.7764706 , 0.7764706 , 0.6666667 ,\n",
              "       0.20392157, 0.        , 0.        , 0.        , 0.        ,\n",
              "       0.        , 0.        , 0.        , 0.        , 0.        ,\n",
              "       0.        , 0.        , 0.        , 0.2627451 , 0.44705883,\n",
              "       0.28235295, 0.44705883, 0.6392157 , 0.8901961 , 0.99607843,\n",
              "       0.88235295, 0.99607843, 0.99607843, 0.99607843, 0.98039216,\n",
              "       0.8980392 , 0.99607843, 0.99607843, 0.54901963, 0.        ,\n",
              "       0.        , 0.        , 0.        , 0.        , 0.        ,\n",
              "       0.        , 0.        , 0.        , 0.        , 0.        ,\n",
              "       0.        , 0.        , 0.        , 0.        , 0.        ,\n",
              "       0.        , 0.06666667, 0.25882354, 0.05490196, 0.2627451 ,\n",
              "       0.2627451 , 0.2627451 , 0.23137255, 0.08235294, 0.9254902 ,\n",
              "       0.99607843, 0.41568628, 0.        , 0.        , 0.        ,\n",
              "       0.        , 0.        , 0.        , 0.        , 0.        ,\n",
              "       0.        , 0.        , 0.        , 0.        , 0.        ,\n",
              "       0.        , 0.        , 0.        , 0.        , 0.        ,\n",
              "       0.        , 0.        , 0.        , 0.        , 0.        ,\n",
              "       0.        , 0.3254902 , 0.99215686, 0.81960785, 0.07058824,\n",
              "       0.        , 0.        , 0.        , 0.        , 0.        ,\n",
              "       0.        , 0.        , 0.        , 0.        , 0.        ,\n",
              "       0.        , 0.        , 0.        , 0.        , 0.        ,\n",
              "       0.        , 0.        , 0.        , 0.        , 0.        ,\n",
              "       0.        , 0.        , 0.        , 0.08627451, 0.9137255 ,\n",
              "       1.        , 0.3254902 , 0.        , 0.        , 0.        ,\n",
              "       0.        , 0.        , 0.        , 0.        , 0.        ,\n",
              "       0.        , 0.        , 0.        , 0.        , 0.        ,\n",
              "       0.        , 0.        , 0.        , 0.        , 0.        ,\n",
              "       0.        , 0.        , 0.        , 0.        , 0.        ,\n",
              "       0.        , 0.5058824 , 0.99607843, 0.93333334, 0.17254902,\n",
              "       0.        , 0.        , 0.        , 0.        , 0.        ,\n",
              "       0.        , 0.        , 0.        , 0.        , 0.        ,\n",
              "       0.        , 0.        , 0.        , 0.        , 0.        ,\n",
              "       0.        , 0.        , 0.        , 0.        , 0.        ,\n",
              "       0.        , 0.        , 0.        , 0.23137255, 0.9764706 ,\n",
              "       0.99607843, 0.24313726, 0.        , 0.        , 0.        ,\n",
              "       0.        , 0.        , 0.        , 0.        , 0.        ,\n",
              "       0.        , 0.        , 0.        , 0.        , 0.        ,\n",
              "       0.        , 0.        , 0.        , 0.        , 0.        ,\n",
              "       0.        , 0.        , 0.        , 0.        , 0.        ,\n",
              "       0.        , 0.52156866, 0.99607843, 0.73333335, 0.01960784,\n",
              "       0.        , 0.        , 0.        , 0.        , 0.        ,\n",
              "       0.        , 0.        , 0.        , 0.        , 0.        ,\n",
              "       0.        , 0.        , 0.        , 0.        , 0.        ,\n",
              "       0.        , 0.        , 0.        , 0.        , 0.        ,\n",
              "       0.        , 0.        , 0.        , 0.03529412, 0.8039216 ,\n",
              "       0.972549  , 0.22745098, 0.        , 0.        , 0.        ,\n",
              "       0.        , 0.        , 0.        , 0.        , 0.        ,\n",
              "       0.        , 0.        , 0.        , 0.        , 0.        ,\n",
              "       0.        , 0.        , 0.        , 0.        , 0.        ,\n",
              "       0.        , 0.        , 0.        , 0.        , 0.        ,\n",
              "       0.        , 0.49411765, 0.99607843, 0.7137255 , 0.        ,\n",
              "       0.        , 0.        , 0.        , 0.        , 0.        ,\n",
              "       0.        , 0.        , 0.        , 0.        , 0.        ,\n",
              "       0.        , 0.        , 0.        , 0.        , 0.        ,\n",
              "       0.        , 0.        , 0.        , 0.        , 0.        ,\n",
              "       0.        , 0.        , 0.        , 0.29411766, 0.9843137 ,\n",
              "       0.9411765 , 0.22352941, 0.        , 0.        , 0.        ,\n",
              "       0.        , 0.        , 0.        , 0.        , 0.        ,\n",
              "       0.        , 0.        , 0.        , 0.        , 0.        ,\n",
              "       0.        , 0.        , 0.        , 0.        , 0.        ,\n",
              "       0.        , 0.        , 0.        , 0.        , 0.        ,\n",
              "       0.07450981, 0.8666667 , 0.99607843, 0.6509804 , 0.        ,\n",
              "       0.        , 0.        , 0.        , 0.        , 0.        ,\n",
              "       0.        , 0.        , 0.        , 0.        , 0.        ,\n",
              "       0.        , 0.        , 0.        , 0.        , 0.        ,\n",
              "       0.        , 0.        , 0.        , 0.        , 0.        ,\n",
              "       0.        , 0.        , 0.01176471, 0.79607844, 0.99607843,\n",
              "       0.85882354, 0.13725491, 0.        , 0.        , 0.        ,\n",
              "       0.        , 0.        , 0.        , 0.        , 0.        ,\n",
              "       0.        , 0.        , 0.        , 0.        , 0.        ,\n",
              "       0.        , 0.        , 0.        , 0.        , 0.        ,\n",
              "       0.        , 0.        , 0.        , 0.        , 0.        ,\n",
              "       0.14901961, 0.99607843, 0.99607843, 0.3019608 , 0.        ,\n",
              "       0.        , 0.        , 0.        , 0.        , 0.        ,\n",
              "       0.        , 0.        , 0.        , 0.        , 0.        ,\n",
              "       0.        , 0.        , 0.        , 0.        , 0.        ,\n",
              "       0.        , 0.        , 0.        , 0.        , 0.        ,\n",
              "       0.        , 0.        , 0.12156863, 0.8784314 , 0.99607843,\n",
              "       0.4509804 , 0.00392157, 0.        , 0.        , 0.        ,\n",
              "       0.        , 0.        , 0.        , 0.        , 0.        ,\n",
              "       0.        , 0.        , 0.        , 0.        , 0.        ,\n",
              "       0.        , 0.        , 0.        , 0.        , 0.        ,\n",
              "       0.        , 0.        , 0.        , 0.        , 0.        ,\n",
              "       0.52156866, 0.99607843, 0.99607843, 0.20392157, 0.        ,\n",
              "       0.        , 0.        , 0.        , 0.        , 0.        ,\n",
              "       0.        , 0.        , 0.        , 0.        , 0.        ,\n",
              "       0.        , 0.        , 0.        , 0.        , 0.        ,\n",
              "       0.        , 0.        , 0.        , 0.        , 0.        ,\n",
              "       0.        , 0.        , 0.23921569, 0.9490196 , 0.99607843,\n",
              "       0.99607843, 0.20392157, 0.        , 0.        , 0.        ,\n",
              "       0.        , 0.        , 0.        , 0.        , 0.        ,\n",
              "       0.        , 0.        , 0.        , 0.        , 0.        ,\n",
              "       0.        , 0.        , 0.        , 0.        , 0.        ,\n",
              "       0.        , 0.        , 0.        , 0.        , 0.        ,\n",
              "       0.4745098 , 0.99607843, 0.99607843, 0.85882354, 0.15686275,\n",
              "       0.        , 0.        , 0.        , 0.        , 0.        ,\n",
              "       0.        , 0.        , 0.        , 0.        , 0.        ,\n",
              "       0.        , 0.        , 0.        , 0.        , 0.        ,\n",
              "       0.        , 0.        , 0.        , 0.        , 0.        ,\n",
              "       0.        , 0.        , 0.        , 0.4745098 , 0.99607843,\n",
              "       0.8117647 , 0.07058824, 0.        , 0.        , 0.        ,\n",
              "       0.        , 0.        , 0.        , 0.        , 0.        ,\n",
              "       0.        , 0.        , 0.        , 0.        , 0.        ,\n",
              "       0.        , 0.        , 0.        , 0.        , 0.        ,\n",
              "       0.        , 0.        , 0.        , 0.        , 0.        ,\n",
              "       0.        , 0.        , 0.        , 0.        , 0.        ,\n",
              "       0.        , 0.        , 0.        , 0.        , 0.        ,\n",
              "       0.        , 0.        , 0.        , 0.        , 0.        ,\n",
              "       0.        , 0.        , 0.        , 0.        ], dtype=float32)"
            ]
          },
          "metadata": {
            "tags": []
          },
          "execution_count": 17
        }
      ]
    },
    {
      "cell_type": "code",
      "metadata": {
        "id": "TmsPNfwcHwgT"
      },
      "source": [
        "n_classes = 10\n",
        "y_train = keras.utils.to_categorical(y_train, n_classes)\n",
        "y_valid = keras.utils.to_categorical(y_valid, n_classes)"
      ],
      "execution_count": 18,
      "outputs": []
    },
    {
      "cell_type": "code",
      "metadata": {
        "id": "kO4uBvk_HwgV",
        "outputId": "d704745f-d1d5-4e38-90a1-edb7bcae3910",
        "colab": {
          "base_uri": "https://localhost:8080/"
        }
      },
      "source": [
        "y_valid[0]"
      ],
      "execution_count": 19,
      "outputs": [
        {
          "output_type": "execute_result",
          "data": {
            "text/plain": [
              "array([0., 0., 0., 0., 0., 0., 0., 1., 0., 0.], dtype=float32)"
            ]
          },
          "metadata": {
            "tags": []
          },
          "execution_count": 19
        }
      ]
    },
    {
      "cell_type": "markdown",
      "metadata": {
        "id": "Ktd2kd4LHwgX"
      },
      "source": [
        "#### Design neural network architecture"
      ]
    },
    {
      "cell_type": "code",
      "metadata": {
        "id": "01CELGs_HwgX"
      },
      "source": [
        "model = Sequential()\n",
        "model.add(Dense(64, activation='sigmoid', input_shape=(784,)))\n",
        "model.add(Dense(10, activation='softmax'))"
      ],
      "execution_count": 20,
      "outputs": []
    },
    {
      "cell_type": "code",
      "metadata": {
        "id": "bzV0SgOgHwgZ",
        "outputId": "2780dd5e-cf81-4c31-f035-eeb6490064be",
        "colab": {
          "base_uri": "https://localhost:8080/"
        }
      },
      "source": [
        "model.summary()"
      ],
      "execution_count": 21,
      "outputs": [
        {
          "output_type": "stream",
          "text": [
            "Model: \"sequential\"\n",
            "_________________________________________________________________\n",
            "Layer (type)                 Output Shape              Param #   \n",
            "=================================================================\n",
            "dense (Dense)                (None, 64)                50240     \n",
            "_________________________________________________________________\n",
            "dense_1 (Dense)              (None, 10)                650       \n",
            "=================================================================\n",
            "Total params: 50,890\n",
            "Trainable params: 50,890\n",
            "Non-trainable params: 0\n",
            "_________________________________________________________________\n"
          ],
          "name": "stdout"
        }
      ]
    },
    {
      "cell_type": "code",
      "metadata": {
        "id": "MwmoO8IwHwgb",
        "outputId": "b8309ebf-14aa-4352-c922-eb3b60ac8ea2",
        "colab": {
          "base_uri": "https://localhost:8080/"
        }
      },
      "source": [
        "(64*784)"
      ],
      "execution_count": 22,
      "outputs": [
        {
          "output_type": "execute_result",
          "data": {
            "text/plain": [
              "50176"
            ]
          },
          "metadata": {
            "tags": []
          },
          "execution_count": 22
        }
      ]
    },
    {
      "cell_type": "code",
      "metadata": {
        "id": "n6r1gRnJHwgd",
        "outputId": "8181e943-c8f6-4531-a54a-81b7231d797c",
        "colab": {
          "base_uri": "https://localhost:8080/"
        }
      },
      "source": [
        "(64*784)+64"
      ],
      "execution_count": 23,
      "outputs": [
        {
          "output_type": "execute_result",
          "data": {
            "text/plain": [
              "50240"
            ]
          },
          "metadata": {
            "tags": []
          },
          "execution_count": 23
        }
      ]
    },
    {
      "cell_type": "code",
      "metadata": {
        "id": "fmNqp6cAHwgg",
        "outputId": "4d055fc4-93a2-4876-982f-c6d8dabee480",
        "colab": {
          "base_uri": "https://localhost:8080/"
        }
      },
      "source": [
        "(10*64)+10"
      ],
      "execution_count": 24,
      "outputs": [
        {
          "output_type": "execute_result",
          "data": {
            "text/plain": [
              "650"
            ]
          },
          "metadata": {
            "tags": []
          },
          "execution_count": 24
        }
      ]
    },
    {
      "cell_type": "markdown",
      "metadata": {
        "id": "EJ9btPDzHwgi"
      },
      "source": [
        "#### Configure model"
      ]
    },
    {
      "cell_type": "code",
      "metadata": {
        "id": "KlDBx0_jHwgi"
      },
      "source": [
        "model.compile(loss='mean_squared_error', optimizer=SGD(lr=0.01), metrics=['accuracy'])"
      ],
      "execution_count": 25,
      "outputs": []
    },
    {
      "cell_type": "markdown",
      "metadata": {
        "id": "eG5aC--9Hwgk"
      },
      "source": [
        "#### Train!"
      ]
    },
    {
      "cell_type": "code",
      "metadata": {
        "id": "yS_zeavBHwgk",
        "outputId": "d7e95b88-0a91-442f-e8fe-81614a2478a3",
        "colab": {
          "base_uri": "https://localhost:8080/"
        }
      },
      "source": [
        "model.fit(X_train, y_train, batch_size=128, epochs=200, verbose=1, validation_data=(X_valid, y_valid))"
      ],
      "execution_count": 26,
      "outputs": [
        {
          "output_type": "stream",
          "text": [
            "Epoch 1/200\n",
            "469/469 [==============================] - 1s 3ms/step - loss: 0.0941 - accuracy: 0.1008 - val_loss: 0.0929 - val_accuracy: 0.1081\n",
            "Epoch 2/200\n",
            "469/469 [==============================] - 1s 2ms/step - loss: 0.0922 - accuracy: 0.1089 - val_loss: 0.0917 - val_accuracy: 0.1168\n",
            "Epoch 3/200\n",
            "469/469 [==============================] - 1s 2ms/step - loss: 0.0914 - accuracy: 0.1163 - val_loss: 0.0911 - val_accuracy: 0.1299\n",
            "Epoch 4/200\n",
            "469/469 [==============================] - 1s 2ms/step - loss: 0.0908 - accuracy: 0.1331 - val_loss: 0.0906 - val_accuracy: 0.1506\n",
            "Epoch 5/200\n",
            "469/469 [==============================] - 1s 3ms/step - loss: 0.0904 - accuracy: 0.1521 - val_loss: 0.0902 - val_accuracy: 0.1691\n",
            "Epoch 6/200\n",
            "469/469 [==============================] - 1s 2ms/step - loss: 0.0900 - accuracy: 0.1732 - val_loss: 0.0898 - val_accuracy: 0.1866\n",
            "Epoch 7/200\n",
            "469/469 [==============================] - 1s 2ms/step - loss: 0.0897 - accuracy: 0.1970 - val_loss: 0.0895 - val_accuracy: 0.2101\n",
            "Epoch 8/200\n",
            "469/469 [==============================] - 1s 2ms/step - loss: 0.0894 - accuracy: 0.2174 - val_loss: 0.0892 - val_accuracy: 0.2282\n",
            "Epoch 9/200\n",
            "469/469 [==============================] - 1s 2ms/step - loss: 0.0890 - accuracy: 0.2334 - val_loss: 0.0889 - val_accuracy: 0.2410\n",
            "Epoch 10/200\n",
            "469/469 [==============================] - 1s 2ms/step - loss: 0.0887 - accuracy: 0.2456 - val_loss: 0.0886 - val_accuracy: 0.2497\n",
            "Epoch 11/200\n",
            "469/469 [==============================] - 1s 3ms/step - loss: 0.0884 - accuracy: 0.2545 - val_loss: 0.0883 - val_accuracy: 0.2566\n",
            "Epoch 12/200\n",
            "469/469 [==============================] - 1s 3ms/step - loss: 0.0882 - accuracy: 0.2614 - val_loss: 0.0880 - val_accuracy: 0.2641\n",
            "Epoch 13/200\n",
            "469/469 [==============================] - 1s 2ms/step - loss: 0.0879 - accuracy: 0.2744 - val_loss: 0.0877 - val_accuracy: 0.2879\n",
            "Epoch 14/200\n",
            "469/469 [==============================] - 1s 2ms/step - loss: 0.0876 - accuracy: 0.3096 - val_loss: 0.0874 - val_accuracy: 0.3312\n",
            "Epoch 15/200\n",
            "469/469 [==============================] - 1s 2ms/step - loss: 0.0873 - accuracy: 0.3414 - val_loss: 0.0871 - val_accuracy: 0.3584\n",
            "Epoch 16/200\n",
            "469/469 [==============================] - 1s 2ms/step - loss: 0.0870 - accuracy: 0.3607 - val_loss: 0.0868 - val_accuracy: 0.3711\n",
            "Epoch 17/200\n",
            "469/469 [==============================] - 1s 2ms/step - loss: 0.0867 - accuracy: 0.3684 - val_loss: 0.0865 - val_accuracy: 0.3766\n",
            "Epoch 18/200\n",
            "469/469 [==============================] - 1s 2ms/step - loss: 0.0863 - accuracy: 0.3708 - val_loss: 0.0861 - val_accuracy: 0.3776\n",
            "Epoch 19/200\n",
            "469/469 [==============================] - 1s 2ms/step - loss: 0.0860 - accuracy: 0.3704 - val_loss: 0.0858 - val_accuracy: 0.3779\n",
            "Epoch 20/200\n",
            "469/469 [==============================] - 1s 3ms/step - loss: 0.0857 - accuracy: 0.3692 - val_loss: 0.0855 - val_accuracy: 0.3765\n",
            "Epoch 21/200\n",
            "469/469 [==============================] - 1s 3ms/step - loss: 0.0854 - accuracy: 0.3686 - val_loss: 0.0851 - val_accuracy: 0.3754\n",
            "Epoch 22/200\n",
            "469/469 [==============================] - 1s 2ms/step - loss: 0.0850 - accuracy: 0.3684 - val_loss: 0.0848 - val_accuracy: 0.3751\n",
            "Epoch 23/200\n",
            "469/469 [==============================] - 1s 3ms/step - loss: 0.0847 - accuracy: 0.3700 - val_loss: 0.0844 - val_accuracy: 0.3754\n",
            "Epoch 24/200\n",
            "469/469 [==============================] - 1s 2ms/step - loss: 0.0843 - accuracy: 0.3688 - val_loss: 0.0840 - val_accuracy: 0.3769\n",
            "Epoch 25/200\n",
            "469/469 [==============================] - 1s 2ms/step - loss: 0.0839 - accuracy: 0.3709 - val_loss: 0.0837 - val_accuracy: 0.3797\n",
            "Epoch 26/200\n",
            "469/469 [==============================] - 1s 3ms/step - loss: 0.0836 - accuracy: 0.3737 - val_loss: 0.0833 - val_accuracy: 0.3847\n",
            "Epoch 27/200\n",
            "469/469 [==============================] - 1s 2ms/step - loss: 0.0832 - accuracy: 0.3776 - val_loss: 0.0829 - val_accuracy: 0.3876\n",
            "Epoch 28/200\n",
            "469/469 [==============================] - 1s 2ms/step - loss: 0.0828 - accuracy: 0.3820 - val_loss: 0.0825 - val_accuracy: 0.3930\n",
            "Epoch 29/200\n",
            "469/469 [==============================] - 1s 2ms/step - loss: 0.0824 - accuracy: 0.3876 - val_loss: 0.0821 - val_accuracy: 0.3986\n",
            "Epoch 30/200\n",
            "469/469 [==============================] - 1s 2ms/step - loss: 0.0820 - accuracy: 0.3918 - val_loss: 0.0816 - val_accuracy: 0.4060\n",
            "Epoch 31/200\n",
            "469/469 [==============================] - 1s 3ms/step - loss: 0.0816 - accuracy: 0.3992 - val_loss: 0.0812 - val_accuracy: 0.4117\n",
            "Epoch 32/200\n",
            "469/469 [==============================] - 1s 2ms/step - loss: 0.0811 - accuracy: 0.4053 - val_loss: 0.0808 - val_accuracy: 0.4183\n",
            "Epoch 33/200\n",
            "469/469 [==============================] - 1s 2ms/step - loss: 0.0807 - accuracy: 0.4120 - val_loss: 0.0803 - val_accuracy: 0.4260\n",
            "Epoch 34/200\n",
            "469/469 [==============================] - 1s 3ms/step - loss: 0.0803 - accuracy: 0.4197 - val_loss: 0.0799 - val_accuracy: 0.4329\n",
            "Epoch 35/200\n",
            "469/469 [==============================] - 1s 2ms/step - loss: 0.0798 - accuracy: 0.4254 - val_loss: 0.0794 - val_accuracy: 0.4422\n",
            "Epoch 36/200\n",
            "469/469 [==============================] - 1s 2ms/step - loss: 0.0794 - accuracy: 0.4339 - val_loss: 0.0790 - val_accuracy: 0.4496\n",
            "Epoch 37/200\n",
            "469/469 [==============================] - 1s 3ms/step - loss: 0.0789 - accuracy: 0.4399 - val_loss: 0.0785 - val_accuracy: 0.4567\n",
            "Epoch 38/200\n",
            "469/469 [==============================] - 1s 3ms/step - loss: 0.0785 - accuracy: 0.4467 - val_loss: 0.0780 - val_accuracy: 0.4625\n",
            "Epoch 39/200\n",
            "469/469 [==============================] - 1s 3ms/step - loss: 0.0780 - accuracy: 0.4536 - val_loss: 0.0776 - val_accuracy: 0.4679\n",
            "Epoch 40/200\n",
            "469/469 [==============================] - 1s 2ms/step - loss: 0.0775 - accuracy: 0.4597 - val_loss: 0.0771 - val_accuracy: 0.4729\n",
            "Epoch 41/200\n",
            "469/469 [==============================] - 1s 2ms/step - loss: 0.0771 - accuracy: 0.4661 - val_loss: 0.0766 - val_accuracy: 0.4788\n",
            "Epoch 42/200\n",
            "469/469 [==============================] - 1s 2ms/step - loss: 0.0766 - accuracy: 0.4723 - val_loss: 0.0761 - val_accuracy: 0.4861\n",
            "Epoch 43/200\n",
            "469/469 [==============================] - 1s 3ms/step - loss: 0.0761 - accuracy: 0.4787 - val_loss: 0.0756 - val_accuracy: 0.4917\n",
            "Epoch 44/200\n",
            "469/469 [==============================] - 1s 2ms/step - loss: 0.0756 - accuracy: 0.4835 - val_loss: 0.0751 - val_accuracy: 0.4965\n",
            "Epoch 45/200\n",
            "469/469 [==============================] - 1s 2ms/step - loss: 0.0751 - accuracy: 0.4882 - val_loss: 0.0746 - val_accuracy: 0.5003\n",
            "Epoch 46/200\n",
            "469/469 [==============================] - 1s 2ms/step - loss: 0.0746 - accuracy: 0.4925 - val_loss: 0.0741 - val_accuracy: 0.5051\n",
            "Epoch 47/200\n",
            "469/469 [==============================] - 1s 2ms/step - loss: 0.0742 - accuracy: 0.4973 - val_loss: 0.0737 - val_accuracy: 0.5101\n",
            "Epoch 48/200\n",
            "469/469 [==============================] - 1s 2ms/step - loss: 0.0737 - accuracy: 0.5019 - val_loss: 0.0732 - val_accuracy: 0.5136\n",
            "Epoch 49/200\n",
            "469/469 [==============================] - 1s 3ms/step - loss: 0.0732 - accuracy: 0.5064 - val_loss: 0.0727 - val_accuracy: 0.5162\n",
            "Epoch 50/200\n",
            "469/469 [==============================] - 1s 2ms/step - loss: 0.0727 - accuracy: 0.5099 - val_loss: 0.0722 - val_accuracy: 0.5199\n",
            "Epoch 51/200\n",
            "469/469 [==============================] - 1s 3ms/step - loss: 0.0722 - accuracy: 0.5145 - val_loss: 0.0717 - val_accuracy: 0.5242\n",
            "Epoch 52/200\n",
            "469/469 [==============================] - 1s 3ms/step - loss: 0.0717 - accuracy: 0.5184 - val_loss: 0.0711 - val_accuracy: 0.5283\n",
            "Epoch 53/200\n",
            "469/469 [==============================] - 1s 3ms/step - loss: 0.0712 - accuracy: 0.5221 - val_loss: 0.0706 - val_accuracy: 0.5330\n",
            "Epoch 54/200\n",
            "469/469 [==============================] - 1s 3ms/step - loss: 0.0707 - accuracy: 0.5264 - val_loss: 0.0701 - val_accuracy: 0.5370\n",
            "Epoch 55/200\n",
            "469/469 [==============================] - 1s 3ms/step - loss: 0.0702 - accuracy: 0.5314 - val_loss: 0.0696 - val_accuracy: 0.5405\n",
            "Epoch 56/200\n",
            "469/469 [==============================] - 1s 3ms/step - loss: 0.0697 - accuracy: 0.5348 - val_loss: 0.0691 - val_accuracy: 0.5444\n",
            "Epoch 57/200\n",
            "469/469 [==============================] - 1s 2ms/step - loss: 0.0692 - accuracy: 0.5392 - val_loss: 0.0686 - val_accuracy: 0.5474\n",
            "Epoch 58/200\n",
            "469/469 [==============================] - 1s 2ms/step - loss: 0.0687 - accuracy: 0.5443 - val_loss: 0.0682 - val_accuracy: 0.5521\n",
            "Epoch 59/200\n",
            "469/469 [==============================] - 1s 3ms/step - loss: 0.0682 - accuracy: 0.5494 - val_loss: 0.0677 - val_accuracy: 0.5573\n",
            "Epoch 60/200\n",
            "469/469 [==============================] - 1s 2ms/step - loss: 0.0678 - accuracy: 0.5542 - val_loss: 0.0672 - val_accuracy: 0.5610\n",
            "Epoch 61/200\n",
            "469/469 [==============================] - 1s 2ms/step - loss: 0.0673 - accuracy: 0.5586 - val_loss: 0.0667 - val_accuracy: 0.5667\n",
            "Epoch 62/200\n",
            "469/469 [==============================] - 1s 3ms/step - loss: 0.0668 - accuracy: 0.5631 - val_loss: 0.0662 - val_accuracy: 0.5715\n",
            "Epoch 63/200\n",
            "469/469 [==============================] - 1s 3ms/step - loss: 0.0663 - accuracy: 0.5687 - val_loss: 0.0657 - val_accuracy: 0.5754\n",
            "Epoch 64/200\n",
            "469/469 [==============================] - 1s 2ms/step - loss: 0.0658 - accuracy: 0.5732 - val_loss: 0.0652 - val_accuracy: 0.5814\n",
            "Epoch 65/200\n",
            "469/469 [==============================] - 1s 3ms/step - loss: 0.0654 - accuracy: 0.5781 - val_loss: 0.0647 - val_accuracy: 0.5868\n",
            "Epoch 66/200\n",
            "469/469 [==============================] - 1s 3ms/step - loss: 0.0649 - accuracy: 0.5832 - val_loss: 0.0642 - val_accuracy: 0.5925\n",
            "Epoch 67/200\n",
            "469/469 [==============================] - 1s 2ms/step - loss: 0.0644 - accuracy: 0.5880 - val_loss: 0.0638 - val_accuracy: 0.5988\n",
            "Epoch 68/200\n",
            "469/469 [==============================] - 1s 2ms/step - loss: 0.0639 - accuracy: 0.5939 - val_loss: 0.0633 - val_accuracy: 0.6048\n",
            "Epoch 69/200\n",
            "469/469 [==============================] - 1s 3ms/step - loss: 0.0635 - accuracy: 0.5986 - val_loss: 0.0628 - val_accuracy: 0.6092\n",
            "Epoch 70/200\n",
            "469/469 [==============================] - 1s 2ms/step - loss: 0.0630 - accuracy: 0.6044 - val_loss: 0.0624 - val_accuracy: 0.6126\n",
            "Epoch 71/200\n",
            "469/469 [==============================] - 1s 2ms/step - loss: 0.0626 - accuracy: 0.6089 - val_loss: 0.0619 - val_accuracy: 0.6176\n",
            "Epoch 72/200\n",
            "469/469 [==============================] - 1s 3ms/step - loss: 0.0621 - accuracy: 0.6138 - val_loss: 0.0614 - val_accuracy: 0.6225\n",
            "Epoch 73/200\n",
            "469/469 [==============================] - 1s 2ms/step - loss: 0.0616 - accuracy: 0.6190 - val_loss: 0.0610 - val_accuracy: 0.6265\n",
            "Epoch 74/200\n",
            "469/469 [==============================] - 1s 2ms/step - loss: 0.0612 - accuracy: 0.6246 - val_loss: 0.0605 - val_accuracy: 0.6313\n",
            "Epoch 75/200\n",
            "469/469 [==============================] - 1s 3ms/step - loss: 0.0607 - accuracy: 0.6298 - val_loss: 0.0601 - val_accuracy: 0.6361\n",
            "Epoch 76/200\n",
            "469/469 [==============================] - 1s 2ms/step - loss: 0.0603 - accuracy: 0.6348 - val_loss: 0.0596 - val_accuracy: 0.6418\n",
            "Epoch 77/200\n",
            "469/469 [==============================] - 1s 2ms/step - loss: 0.0599 - accuracy: 0.6392 - val_loss: 0.0592 - val_accuracy: 0.6480\n",
            "Epoch 78/200\n",
            "469/469 [==============================] - 1s 2ms/step - loss: 0.0594 - accuracy: 0.6439 - val_loss: 0.0587 - val_accuracy: 0.6528\n",
            "Epoch 79/200\n",
            "469/469 [==============================] - 1s 2ms/step - loss: 0.0590 - accuracy: 0.6486 - val_loss: 0.0583 - val_accuracy: 0.6580\n",
            "Epoch 80/200\n",
            "469/469 [==============================] - 1s 2ms/step - loss: 0.0586 - accuracy: 0.6532 - val_loss: 0.0578 - val_accuracy: 0.6623\n",
            "Epoch 81/200\n",
            "469/469 [==============================] - 1s 3ms/step - loss: 0.0581 - accuracy: 0.6574 - val_loss: 0.0574 - val_accuracy: 0.6662\n",
            "Epoch 82/200\n",
            "469/469 [==============================] - 1s 2ms/step - loss: 0.0577 - accuracy: 0.6621 - val_loss: 0.0570 - val_accuracy: 0.6696\n",
            "Epoch 83/200\n",
            "469/469 [==============================] - 1s 2ms/step - loss: 0.0573 - accuracy: 0.6657 - val_loss: 0.0566 - val_accuracy: 0.6739\n",
            "Epoch 84/200\n",
            "469/469 [==============================] - 1s 3ms/step - loss: 0.0569 - accuracy: 0.6699 - val_loss: 0.0561 - val_accuracy: 0.6776\n",
            "Epoch 85/200\n",
            "469/469 [==============================] - 1s 2ms/step - loss: 0.0565 - accuracy: 0.6744 - val_loss: 0.0557 - val_accuracy: 0.6816\n",
            "Epoch 86/200\n",
            "469/469 [==============================] - 1s 2ms/step - loss: 0.0560 - accuracy: 0.6782 - val_loss: 0.0553 - val_accuracy: 0.6864\n",
            "Epoch 87/200\n",
            "469/469 [==============================] - 1s 3ms/step - loss: 0.0556 - accuracy: 0.6819 - val_loss: 0.0549 - val_accuracy: 0.6896\n",
            "Epoch 88/200\n",
            "469/469 [==============================] - 1s 3ms/step - loss: 0.0552 - accuracy: 0.6864 - val_loss: 0.0545 - val_accuracy: 0.6931\n",
            "Epoch 89/200\n",
            "469/469 [==============================] - 1s 3ms/step - loss: 0.0548 - accuracy: 0.6896 - val_loss: 0.0541 - val_accuracy: 0.6970\n",
            "Epoch 90/200\n",
            "469/469 [==============================] - 1s 2ms/step - loss: 0.0544 - accuracy: 0.6928 - val_loss: 0.0537 - val_accuracy: 0.7011\n",
            "Epoch 91/200\n",
            "469/469 [==============================] - 1s 3ms/step - loss: 0.0540 - accuracy: 0.6960 - val_loss: 0.0533 - val_accuracy: 0.7037\n",
            "Epoch 92/200\n",
            "469/469 [==============================] - 1s 3ms/step - loss: 0.0536 - accuracy: 0.6990 - val_loss: 0.0529 - val_accuracy: 0.7076\n",
            "Epoch 93/200\n",
            "469/469 [==============================] - 1s 3ms/step - loss: 0.0533 - accuracy: 0.7023 - val_loss: 0.0525 - val_accuracy: 0.7109\n",
            "Epoch 94/200\n",
            "469/469 [==============================] - 1s 3ms/step - loss: 0.0529 - accuracy: 0.7061 - val_loss: 0.0521 - val_accuracy: 0.7135\n",
            "Epoch 95/200\n",
            "469/469 [==============================] - 1s 3ms/step - loss: 0.0525 - accuracy: 0.7089 - val_loss: 0.0517 - val_accuracy: 0.7175\n",
            "Epoch 96/200\n",
            "469/469 [==============================] - 1s 2ms/step - loss: 0.0521 - accuracy: 0.7120 - val_loss: 0.0513 - val_accuracy: 0.7215\n",
            "Epoch 97/200\n",
            "469/469 [==============================] - 1s 3ms/step - loss: 0.0517 - accuracy: 0.7153 - val_loss: 0.0509 - val_accuracy: 0.7246\n",
            "Epoch 98/200\n",
            "469/469 [==============================] - 1s 2ms/step - loss: 0.0514 - accuracy: 0.7183 - val_loss: 0.0506 - val_accuracy: 0.7272\n",
            "Epoch 99/200\n",
            "469/469 [==============================] - 1s 2ms/step - loss: 0.0510 - accuracy: 0.7215 - val_loss: 0.0502 - val_accuracy: 0.7306\n",
            "Epoch 100/200\n",
            "469/469 [==============================] - 1s 3ms/step - loss: 0.0506 - accuracy: 0.7241 - val_loss: 0.0498 - val_accuracy: 0.7328\n",
            "Epoch 101/200\n",
            "469/469 [==============================] - 1s 3ms/step - loss: 0.0503 - accuracy: 0.7264 - val_loss: 0.0494 - val_accuracy: 0.7349\n",
            "Epoch 102/200\n",
            "469/469 [==============================] - 1s 2ms/step - loss: 0.0499 - accuracy: 0.7292 - val_loss: 0.0491 - val_accuracy: 0.7383\n",
            "Epoch 103/200\n",
            "469/469 [==============================] - 1s 2ms/step - loss: 0.0496 - accuracy: 0.7313 - val_loss: 0.0487 - val_accuracy: 0.7410\n",
            "Epoch 104/200\n",
            "469/469 [==============================] - 1s 3ms/step - loss: 0.0492 - accuracy: 0.7341 - val_loss: 0.0484 - val_accuracy: 0.7443\n",
            "Epoch 105/200\n",
            "469/469 [==============================] - 1s 2ms/step - loss: 0.0489 - accuracy: 0.7367 - val_loss: 0.0480 - val_accuracy: 0.7459\n",
            "Epoch 106/200\n",
            "469/469 [==============================] - 1s 2ms/step - loss: 0.0485 - accuracy: 0.7385 - val_loss: 0.0477 - val_accuracy: 0.7477\n",
            "Epoch 107/200\n",
            "469/469 [==============================] - 1s 3ms/step - loss: 0.0482 - accuracy: 0.7404 - val_loss: 0.0473 - val_accuracy: 0.7502\n",
            "Epoch 108/200\n",
            "469/469 [==============================] - 1s 2ms/step - loss: 0.0479 - accuracy: 0.7423 - val_loss: 0.0470 - val_accuracy: 0.7522\n",
            "Epoch 109/200\n",
            "469/469 [==============================] - 1s 2ms/step - loss: 0.0475 - accuracy: 0.7446 - val_loss: 0.0467 - val_accuracy: 0.7550\n",
            "Epoch 110/200\n",
            "469/469 [==============================] - 1s 3ms/step - loss: 0.0472 - accuracy: 0.7464 - val_loss: 0.0463 - val_accuracy: 0.7575\n",
            "Epoch 111/200\n",
            "469/469 [==============================] - 1s 2ms/step - loss: 0.0469 - accuracy: 0.7488 - val_loss: 0.0460 - val_accuracy: 0.7595\n",
            "Epoch 112/200\n",
            "469/469 [==============================] - 1s 2ms/step - loss: 0.0466 - accuracy: 0.7504 - val_loss: 0.0457 - val_accuracy: 0.7609\n",
            "Epoch 113/200\n",
            "469/469 [==============================] - 1s 3ms/step - loss: 0.0462 - accuracy: 0.7527 - val_loss: 0.0453 - val_accuracy: 0.7644\n",
            "Epoch 114/200\n",
            "469/469 [==============================] - 1s 3ms/step - loss: 0.0459 - accuracy: 0.7551 - val_loss: 0.0450 - val_accuracy: 0.7653\n",
            "Epoch 115/200\n",
            "469/469 [==============================] - 1s 2ms/step - loss: 0.0456 - accuracy: 0.7571 - val_loss: 0.0447 - val_accuracy: 0.7684\n",
            "Epoch 116/200\n",
            "469/469 [==============================] - 1s 2ms/step - loss: 0.0453 - accuracy: 0.7591 - val_loss: 0.0444 - val_accuracy: 0.7699\n",
            "Epoch 117/200\n",
            "469/469 [==============================] - 1s 2ms/step - loss: 0.0450 - accuracy: 0.7611 - val_loss: 0.0441 - val_accuracy: 0.7712\n",
            "Epoch 118/200\n",
            "469/469 [==============================] - 1s 2ms/step - loss: 0.0447 - accuracy: 0.7630 - val_loss: 0.0438 - val_accuracy: 0.7728\n",
            "Epoch 119/200\n",
            "469/469 [==============================] - 1s 2ms/step - loss: 0.0444 - accuracy: 0.7650 - val_loss: 0.0435 - val_accuracy: 0.7745\n",
            "Epoch 120/200\n",
            "469/469 [==============================] - 1s 3ms/step - loss: 0.0441 - accuracy: 0.7672 - val_loss: 0.0432 - val_accuracy: 0.7764\n",
            "Epoch 121/200\n",
            "469/469 [==============================] - 1s 2ms/step - loss: 0.0438 - accuracy: 0.7690 - val_loss: 0.0429 - val_accuracy: 0.7781\n",
            "Epoch 122/200\n",
            "469/469 [==============================] - 1s 3ms/step - loss: 0.0435 - accuracy: 0.7709 - val_loss: 0.0426 - val_accuracy: 0.7804\n",
            "Epoch 123/200\n",
            "469/469 [==============================] - 1s 2ms/step - loss: 0.0432 - accuracy: 0.7727 - val_loss: 0.0423 - val_accuracy: 0.7816\n",
            "Epoch 124/200\n",
            "469/469 [==============================] - 1s 2ms/step - loss: 0.0430 - accuracy: 0.7742 - val_loss: 0.0420 - val_accuracy: 0.7829\n",
            "Epoch 125/200\n",
            "469/469 [==============================] - 1s 3ms/step - loss: 0.0427 - accuracy: 0.7765 - val_loss: 0.0417 - val_accuracy: 0.7845\n",
            "Epoch 126/200\n",
            "469/469 [==============================] - 1s 3ms/step - loss: 0.0424 - accuracy: 0.7786 - val_loss: 0.0415 - val_accuracy: 0.7870\n",
            "Epoch 127/200\n",
            "469/469 [==============================] - 1s 3ms/step - loss: 0.0421 - accuracy: 0.7805 - val_loss: 0.0412 - val_accuracy: 0.7894\n",
            "Epoch 128/200\n",
            "469/469 [==============================] - 1s 2ms/step - loss: 0.0419 - accuracy: 0.7823 - val_loss: 0.0409 - val_accuracy: 0.7914\n",
            "Epoch 129/200\n",
            "469/469 [==============================] - 1s 2ms/step - loss: 0.0416 - accuracy: 0.7841 - val_loss: 0.0406 - val_accuracy: 0.7945\n",
            "Epoch 130/200\n",
            "469/469 [==============================] - 1s 3ms/step - loss: 0.0413 - accuracy: 0.7862 - val_loss: 0.0404 - val_accuracy: 0.7958\n",
            "Epoch 131/200\n",
            "469/469 [==============================] - 1s 3ms/step - loss: 0.0411 - accuracy: 0.7882 - val_loss: 0.0401 - val_accuracy: 0.7976\n",
            "Epoch 132/200\n",
            "469/469 [==============================] - 1s 2ms/step - loss: 0.0408 - accuracy: 0.7898 - val_loss: 0.0399 - val_accuracy: 0.7988\n",
            "Epoch 133/200\n",
            "469/469 [==============================] - 1s 3ms/step - loss: 0.0406 - accuracy: 0.7919 - val_loss: 0.0396 - val_accuracy: 0.8006\n",
            "Epoch 134/200\n",
            "469/469 [==============================] - 1s 3ms/step - loss: 0.0403 - accuracy: 0.7935 - val_loss: 0.0393 - val_accuracy: 0.8026\n",
            "Epoch 135/200\n",
            "469/469 [==============================] - 1s 3ms/step - loss: 0.0400 - accuracy: 0.7958 - val_loss: 0.0391 - val_accuracy: 0.8037\n",
            "Epoch 136/200\n",
            "469/469 [==============================] - 1s 3ms/step - loss: 0.0398 - accuracy: 0.7973 - val_loss: 0.0388 - val_accuracy: 0.8058\n",
            "Epoch 137/200\n",
            "469/469 [==============================] - 1s 3ms/step - loss: 0.0396 - accuracy: 0.7992 - val_loss: 0.0386 - val_accuracy: 0.8071\n",
            "Epoch 138/200\n",
            "469/469 [==============================] - 1s 3ms/step - loss: 0.0393 - accuracy: 0.8009 - val_loss: 0.0383 - val_accuracy: 0.8086\n",
            "Epoch 139/200\n",
            "469/469 [==============================] - 1s 3ms/step - loss: 0.0391 - accuracy: 0.8022 - val_loss: 0.0381 - val_accuracy: 0.8106\n",
            "Epoch 140/200\n",
            "469/469 [==============================] - 1s 3ms/step - loss: 0.0388 - accuracy: 0.8042 - val_loss: 0.0379 - val_accuracy: 0.8129\n",
            "Epoch 141/200\n",
            "469/469 [==============================] - 1s 2ms/step - loss: 0.0386 - accuracy: 0.8054 - val_loss: 0.0376 - val_accuracy: 0.8145\n",
            "Epoch 142/200\n",
            "469/469 [==============================] - 1s 3ms/step - loss: 0.0384 - accuracy: 0.8071 - val_loss: 0.0374 - val_accuracy: 0.8165\n",
            "Epoch 143/200\n",
            "469/469 [==============================] - 1s 2ms/step - loss: 0.0381 - accuracy: 0.8088 - val_loss: 0.0371 - val_accuracy: 0.8182\n",
            "Epoch 144/200\n",
            "469/469 [==============================] - 1s 3ms/step - loss: 0.0379 - accuracy: 0.8100 - val_loss: 0.0369 - val_accuracy: 0.8213\n",
            "Epoch 145/200\n",
            "469/469 [==============================] - 1s 2ms/step - loss: 0.0377 - accuracy: 0.8115 - val_loss: 0.0367 - val_accuracy: 0.8225\n",
            "Epoch 146/200\n",
            "469/469 [==============================] - 1s 3ms/step - loss: 0.0375 - accuracy: 0.8132 - val_loss: 0.0365 - val_accuracy: 0.8242\n",
            "Epoch 147/200\n",
            "469/469 [==============================] - 1s 3ms/step - loss: 0.0372 - accuracy: 0.8150 - val_loss: 0.0362 - val_accuracy: 0.8252\n",
            "Epoch 148/200\n",
            "469/469 [==============================] - 1s 2ms/step - loss: 0.0370 - accuracy: 0.8165 - val_loss: 0.0360 - val_accuracy: 0.8264\n",
            "Epoch 149/200\n",
            "469/469 [==============================] - 1s 3ms/step - loss: 0.0368 - accuracy: 0.8179 - val_loss: 0.0358 - val_accuracy: 0.8281\n",
            "Epoch 150/200\n",
            "469/469 [==============================] - 1s 3ms/step - loss: 0.0366 - accuracy: 0.8193 - val_loss: 0.0356 - val_accuracy: 0.8300\n",
            "Epoch 151/200\n",
            "469/469 [==============================] - 1s 3ms/step - loss: 0.0364 - accuracy: 0.8211 - val_loss: 0.0354 - val_accuracy: 0.8314\n",
            "Epoch 152/200\n",
            "469/469 [==============================] - 1s 3ms/step - loss: 0.0362 - accuracy: 0.8224 - val_loss: 0.0352 - val_accuracy: 0.8324\n",
            "Epoch 153/200\n",
            "469/469 [==============================] - 1s 3ms/step - loss: 0.0360 - accuracy: 0.8235 - val_loss: 0.0350 - val_accuracy: 0.8346\n",
            "Epoch 154/200\n",
            "469/469 [==============================] - 1s 2ms/step - loss: 0.0358 - accuracy: 0.8248 - val_loss: 0.0347 - val_accuracy: 0.8356\n",
            "Epoch 155/200\n",
            "469/469 [==============================] - 1s 3ms/step - loss: 0.0355 - accuracy: 0.8260 - val_loss: 0.0345 - val_accuracy: 0.8372\n",
            "Epoch 156/200\n",
            "469/469 [==============================] - 1s 3ms/step - loss: 0.0353 - accuracy: 0.8274 - val_loss: 0.0343 - val_accuracy: 0.8385\n",
            "Epoch 157/200\n",
            "469/469 [==============================] - 1s 3ms/step - loss: 0.0352 - accuracy: 0.8287 - val_loss: 0.0341 - val_accuracy: 0.8398\n",
            "Epoch 158/200\n",
            "469/469 [==============================] - 1s 3ms/step - loss: 0.0350 - accuracy: 0.8299 - val_loss: 0.0339 - val_accuracy: 0.8406\n",
            "Epoch 159/200\n",
            "469/469 [==============================] - 1s 3ms/step - loss: 0.0348 - accuracy: 0.8314 - val_loss: 0.0337 - val_accuracy: 0.8413\n",
            "Epoch 160/200\n",
            "469/469 [==============================] - 1s 3ms/step - loss: 0.0346 - accuracy: 0.8325 - val_loss: 0.0336 - val_accuracy: 0.8423\n",
            "Epoch 161/200\n",
            "469/469 [==============================] - 1s 3ms/step - loss: 0.0344 - accuracy: 0.8338 - val_loss: 0.0334 - val_accuracy: 0.8440\n",
            "Epoch 162/200\n",
            "469/469 [==============================] - 1s 3ms/step - loss: 0.0342 - accuracy: 0.8347 - val_loss: 0.0332 - val_accuracy: 0.8451\n",
            "Epoch 163/200\n",
            "469/469 [==============================] - 1s 3ms/step - loss: 0.0340 - accuracy: 0.8356 - val_loss: 0.0330 - val_accuracy: 0.8460\n",
            "Epoch 164/200\n",
            "469/469 [==============================] - 1s 3ms/step - loss: 0.0338 - accuracy: 0.8367 - val_loss: 0.0328 - val_accuracy: 0.8474\n",
            "Epoch 165/200\n",
            "469/469 [==============================] - 1s 2ms/step - loss: 0.0336 - accuracy: 0.8377 - val_loss: 0.0326 - val_accuracy: 0.8480\n",
            "Epoch 166/200\n",
            "469/469 [==============================] - 1s 3ms/step - loss: 0.0335 - accuracy: 0.8385 - val_loss: 0.0324 - val_accuracy: 0.8495\n",
            "Epoch 167/200\n",
            "469/469 [==============================] - 1s 2ms/step - loss: 0.0333 - accuracy: 0.8393 - val_loss: 0.0323 - val_accuracy: 0.8506\n",
            "Epoch 168/200\n",
            "469/469 [==============================] - 1s 3ms/step - loss: 0.0331 - accuracy: 0.8404 - val_loss: 0.0321 - val_accuracy: 0.8509\n",
            "Epoch 169/200\n",
            "469/469 [==============================] - 1s 2ms/step - loss: 0.0329 - accuracy: 0.8415 - val_loss: 0.0319 - val_accuracy: 0.8516\n",
            "Epoch 170/200\n",
            "469/469 [==============================] - 1s 3ms/step - loss: 0.0328 - accuracy: 0.8423 - val_loss: 0.0317 - val_accuracy: 0.8530\n",
            "Epoch 171/200\n",
            "469/469 [==============================] - 1s 3ms/step - loss: 0.0326 - accuracy: 0.8430 - val_loss: 0.0316 - val_accuracy: 0.8539\n",
            "Epoch 172/200\n",
            "469/469 [==============================] - 1s 3ms/step - loss: 0.0324 - accuracy: 0.8439 - val_loss: 0.0314 - val_accuracy: 0.8545\n",
            "Epoch 173/200\n",
            "469/469 [==============================] - 1s 2ms/step - loss: 0.0323 - accuracy: 0.8446 - val_loss: 0.0312 - val_accuracy: 0.8550\n",
            "Epoch 174/200\n",
            "469/469 [==============================] - 1s 3ms/step - loss: 0.0321 - accuracy: 0.8449 - val_loss: 0.0311 - val_accuracy: 0.8556\n",
            "Epoch 175/200\n",
            "469/469 [==============================] - 1s 3ms/step - loss: 0.0320 - accuracy: 0.8459 - val_loss: 0.0309 - val_accuracy: 0.8558\n",
            "Epoch 176/200\n",
            "469/469 [==============================] - 1s 3ms/step - loss: 0.0318 - accuracy: 0.8465 - val_loss: 0.0308 - val_accuracy: 0.8563\n",
            "Epoch 177/200\n",
            "469/469 [==============================] - 1s 3ms/step - loss: 0.0316 - accuracy: 0.8471 - val_loss: 0.0306 - val_accuracy: 0.8568\n",
            "Epoch 178/200\n",
            "469/469 [==============================] - 1s 3ms/step - loss: 0.0315 - accuracy: 0.8476 - val_loss: 0.0305 - val_accuracy: 0.8572\n",
            "Epoch 179/200\n",
            "469/469 [==============================] - 1s 3ms/step - loss: 0.0313 - accuracy: 0.8482 - val_loss: 0.0303 - val_accuracy: 0.8580\n",
            "Epoch 180/200\n",
            "469/469 [==============================] - 1s 3ms/step - loss: 0.0312 - accuracy: 0.8492 - val_loss: 0.0301 - val_accuracy: 0.8582\n",
            "Epoch 181/200\n",
            "469/469 [==============================] - 1s 3ms/step - loss: 0.0310 - accuracy: 0.8496 - val_loss: 0.0300 - val_accuracy: 0.8589\n",
            "Epoch 182/200\n",
            "469/469 [==============================] - 1s 3ms/step - loss: 0.0309 - accuracy: 0.8501 - val_loss: 0.0298 - val_accuracy: 0.8590\n",
            "Epoch 183/200\n",
            "469/469 [==============================] - 1s 3ms/step - loss: 0.0307 - accuracy: 0.8510 - val_loss: 0.0297 - val_accuracy: 0.8596\n",
            "Epoch 184/200\n",
            "469/469 [==============================] - 1s 3ms/step - loss: 0.0306 - accuracy: 0.8516 - val_loss: 0.0296 - val_accuracy: 0.8599\n",
            "Epoch 185/200\n",
            "469/469 [==============================] - 1s 2ms/step - loss: 0.0304 - accuracy: 0.8521 - val_loss: 0.0294 - val_accuracy: 0.8601\n",
            "Epoch 186/200\n",
            "469/469 [==============================] - 1s 3ms/step - loss: 0.0303 - accuracy: 0.8525 - val_loss: 0.0293 - val_accuracy: 0.8610\n",
            "Epoch 187/200\n",
            "469/469 [==============================] - 1s 3ms/step - loss: 0.0302 - accuracy: 0.8533 - val_loss: 0.0291 - val_accuracy: 0.8619\n",
            "Epoch 188/200\n",
            "469/469 [==============================] - 1s 3ms/step - loss: 0.0300 - accuracy: 0.8536 - val_loss: 0.0290 - val_accuracy: 0.8625\n",
            "Epoch 189/200\n",
            "469/469 [==============================] - 1s 3ms/step - loss: 0.0299 - accuracy: 0.8540 - val_loss: 0.0289 - val_accuracy: 0.8631\n",
            "Epoch 190/200\n",
            "469/469 [==============================] - 1s 3ms/step - loss: 0.0298 - accuracy: 0.8545 - val_loss: 0.0287 - val_accuracy: 0.8634\n",
            "Epoch 191/200\n",
            "469/469 [==============================] - 1s 3ms/step - loss: 0.0296 - accuracy: 0.8546 - val_loss: 0.0286 - val_accuracy: 0.8637\n",
            "Epoch 192/200\n",
            "469/469 [==============================] - 1s 3ms/step - loss: 0.0295 - accuracy: 0.8553 - val_loss: 0.0285 - val_accuracy: 0.8641\n",
            "Epoch 193/200\n",
            "469/469 [==============================] - 1s 3ms/step - loss: 0.0294 - accuracy: 0.8557 - val_loss: 0.0283 - val_accuracy: 0.8645\n",
            "Epoch 194/200\n",
            "469/469 [==============================] - 1s 3ms/step - loss: 0.0292 - accuracy: 0.8559 - val_loss: 0.0282 - val_accuracy: 0.8644\n",
            "Epoch 195/200\n",
            "469/469 [==============================] - 1s 3ms/step - loss: 0.0291 - accuracy: 0.8563 - val_loss: 0.0281 - val_accuracy: 0.8648\n",
            "Epoch 196/200\n",
            "469/469 [==============================] - 1s 3ms/step - loss: 0.0290 - accuracy: 0.8566 - val_loss: 0.0280 - val_accuracy: 0.8654\n",
            "Epoch 197/200\n",
            "469/469 [==============================] - 1s 3ms/step - loss: 0.0289 - accuracy: 0.8572 - val_loss: 0.0278 - val_accuracy: 0.8658\n",
            "Epoch 198/200\n",
            "469/469 [==============================] - 1s 3ms/step - loss: 0.0288 - accuracy: 0.8576 - val_loss: 0.0277 - val_accuracy: 0.8662\n",
            "Epoch 199/200\n",
            "469/469 [==============================] - 1s 2ms/step - loss: 0.0286 - accuracy: 0.8582 - val_loss: 0.0276 - val_accuracy: 0.8665\n",
            "Epoch 200/200\n",
            "469/469 [==============================] - 1s 3ms/step - loss: 0.0285 - accuracy: 0.8585 - val_loss: 0.0275 - val_accuracy: 0.8666\n"
          ],
          "name": "stdout"
        },
        {
          "output_type": "execute_result",
          "data": {
            "text/plain": [
              "<tensorflow.python.keras.callbacks.History at 0x7f5021cce748>"
            ]
          },
          "metadata": {
            "tags": []
          },
          "execution_count": 26
        }
      ]
    },
    {
      "cell_type": "code",
      "metadata": {
        "id": "98SaNkUfHwgm",
        "outputId": "1ab0f237-e955-4554-d9e3-d6f1209cdb56",
        "colab": {
          "base_uri": "https://localhost:8080/"
        }
      },
      "source": [
        "model.evaluate(X_valid, y_valid)"
      ],
      "execution_count": 27,
      "outputs": [
        {
          "output_type": "stream",
          "text": [
            "313/313 [==============================] - 0s 965us/step - loss: 0.0275 - accuracy: 0.8666\n"
          ],
          "name": "stdout"
        },
        {
          "output_type": "execute_result",
          "data": {
            "text/plain": [
              "[0.02747676707804203, 0.866599977016449]"
            ]
          },
          "metadata": {
            "tags": []
          },
          "execution_count": 27
        }
      ]
    },
    {
      "cell_type": "code",
      "metadata": {
        "id": "JnWk4WpVHwgp"
      },
      "source": [
        ""
      ],
      "execution_count": null,
      "outputs": []
    }
  ]
}